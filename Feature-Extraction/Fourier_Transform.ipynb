{
  "nbformat": 4,
  "nbformat_minor": 0,
  "metadata": {
    "colab": {
      "provenance": [],
      "collapsed_sections": [],
      "mount_file_id": "1gXxIoeVhO346LB9CIRmo-cXbMKk2LFgX",
      "authorship_tag": "ABX9TyM3IMnd7s7K/VCFOg/22CM/"
    },
    "kernelspec": {
      "name": "python3",
      "display_name": "Python 3"
    },
    "language_info": {
      "name": "python"
    }
  },
  "cells": [
    {
      "cell_type": "code",
      "source": [
        "def fourier_transform (audio, sampling_rate):\n",
        "  yf = fft.fft(audio)\n",
        "  return yf"
      ],
      "metadata": {
        "id": "XLX3VMnFYYTh"
      },
      "execution_count": 1,
      "outputs": []
    },
    {
      "cell_type": "code",
      "source": [
        "def feature_divider(feature_vector, feature_name,final_feature_vector, feature_class):\n",
        "  # check if final_feature_vector empty or not\n",
        "  if not final_feature_vector:\n",
        "\n",
        "    for n in range(len(feature_vector[0])):\n",
        "       final_feature_vector.append({'feature_class': feature_class})\n",
        "\n",
        "  frame_count = len(final_feature_vector)\n",
        "  for feature in range(len(feature_vector)):\n",
        "        # print (feature_vector)\n",
        "          for frame in range(frame_count):\n",
        "            name = str(feature_name) + \" - \" + str(feature) + \" - \"\n",
        "            current_frame = final_feature_vector[frame]\n",
        "            current_frame[name] = feature_vector[feature][frame]"
      ],
      "metadata": {
        "id": "sEOFWBYlX2M5"
      },
      "execution_count": 2,
      "outputs": []
    },
    {
      "cell_type": "code",
      "source": [
        "def extract_features(signal, sample_rate, frame_length,hop_length, feature_class,final_feature_vector):\n",
        "  zeroCrossingRate = librosa.feature.zero_crossing_rate(y=signal, frame_length=frame_length, hop_length=hop_length)\n",
        "  # print (\"zeroCrossingRate\", zeroCrossingRate)\n",
        "  feature_divider(zeroCrossingRate, \"zero_crossing_rate\",final_feature_vector, feature_class)\n",
        "\n",
        "  chromaStft = librosa.feature.chroma_stft(y=signal, sr=sample_rate, tuning=0.3, n_fft=frame_length, hop_length=hop_length)\n",
        "  # print (\"chromaStft\", chromaStft) # tuning\n",
        "  feature_divider(chromaStft, \"chroma_stft\",final_feature_vector, feature_class)\n",
        "\n",
        "  chromaCqt = librosa.feature.chroma_cqt(y=signal, fmin=10,n_octaves=3, sr=sample_rate, hop_length=hop_length)\n",
        "  # print (\"chromaCqt\", chromaCqt) # fmin and n_octaves\n",
        "  feature_divider(chromaCqt, \"chroma_cqt\", final_feature_vector, feature_class)\n",
        "\n",
        "  chromaCens = librosa.feature.chroma_cens(y=signal, fmin=10,n_octaves=3, sr=sample_rate, hop_length=hop_length)\n",
        "  # print (\"chromaCens\", chromaCens)\n",
        "  feature_divider(chromaCens, \"chroma_cens\",final_feature_vector, feature_class)\n",
        "\n",
        "  melspectrogram = librosa.feature.melspectrogram(y=signal, sr=sample_rate, n_mels=30, fmin=10, fmax=150, n_fft=frame_length, hop_length=hop_length)\n",
        "  # print (\"melspectrogram\", melspectrogram)\n",
        "  feature_divider(melspectrogram, \"melspectrogram\",final_feature_vector, feature_class)\n",
        "\n",
        "  mfcc = librosa.feature.mfcc(y=signal, sr=sample_rate, n_mfcc=5, n_mels=30, fmin=10, fmax=150, n_fft=frame_length,hop_length=hop_length)\n",
        "  # print (\"mfcc\", mfcc)\n",
        "  feature_divider(mfcc, \"mfcc\", final_feature_vector,feature_class)\n",
        "\n",
        "  rmse = librosa.feature.rms(y=signal, frame_length=frame_length, hop_length=hop_length)\n",
        "  # print (\"rmse\", rmse)\n",
        "  feature_divider(rmse, \"rmse\", final_feature_vector,feature_class)\n",
        "\n",
        "  spectralCentroid = librosa.feature.spectral_centroid(y=signal, sr=sample_rate, n_fft=frame_length, hop_length=hop_length)\n",
        "  # print (\"spectralCentroid\", spectralCentroid)\n",
        "  feature_divider(spectralCentroid, \"spectral_centroid\",final_feature_vector, feature_class)\n",
        "\n",
        "  spectral_bandwidth = librosa.feature.spectral_bandwidth(y=signal, sr=sample_rate,n_fft=frame_length, hop_length=hop_length)\n",
        "  # print (\"spectral_bandwidth\", spectral_bandwidth)\n",
        "  feature_divider(spectral_bandwidth, \"spectral_bandwidth\",final_feature_vector, feature_class)\n",
        "\n",
        "  spectral_contrast = librosa.feature.spectral_contrast(y=signal, sr=sample_rate, n_fft=frame_length, hop_length=hop_length, fmin=5,n_bands=5)\n",
        "  # print (\"spectral_contrast\", spectral_contrast)\n",
        "  feature_divider(spectral_contrast, \"spectral_contrast\",final_feature_vector, feature_class)\n",
        "\n",
        "  spectral_rolloff = librosa.feature.spectral_rolloff(y=signal,sr=sample_rate, n_fft=frame_length, hop_length=hop_length,roll_percent=0.85)\n",
        "  # print (\"spectral_rolloff\", spectral_rolloff) #roll_percent\n",
        "  feature_divider(spectral_rolloff, \"spectral_rolloff\",final_feature_vector, feature_class)\n",
        "\n",
        "  poly_features = librosa.feature.poly_features(y=signal, sr=sample_rate, n_fft=frame_length, hop_length=hop_length,order=1)\n",
        "  # print (\"poly_features\", poly_features)\n",
        "  feature_divider(poly_features, \"poly_features\",final_feature_vector, feature_class)"
      ],
      "metadata": {
        "id": "iugQXeOHXiKk"
      },
      "execution_count": 3,
      "outputs": []
    },
    {
      "cell_type": "code",
      "execution_count": 4,
      "metadata": {
        "id": "66w5IniazctC"
      },
      "outputs": [],
      "source": [
        "import librosa\n",
        "import pywt\n",
        "import copy\n",
        "import numpy as np\n",
        "import pandas as pd\n",
        "from scipy import fft\n",
        "import matplotlib.pyplot as plt\n",
        "\n",
        "wavelet_name ='db3'\n",
        "frame_length = 1000 #1s x sample rate\n",
        "hop_length = 600 #0.6s x sample rate\n",
        "features1 = [] #Rumbles Array\n",
        "features0 = [] #Other Array"
      ]
    },
    {
      "cell_type": "code",
      "source": [
        "# Rumbles\n",
        "audioFilePath = \"/content/drive/MyDrive/Research/Rumbles\"\n",
        "files1 = librosa.util.find_files(audioFilePath, ext=['wav']) \n",
        "files1 = np.asarray(files1)\n",
        "signal_array = []\n",
        "for y in files1:\n",
        "    data, sr = librosa.load(y,sr=1000)\n",
        "    fourier = fourier_transform(data, sr)\n",
        "    arr = np.array(fourier).astype(np.float32)\n",
        "    final_feature_vector = []\n",
        "    extract_features(arr, 1000, frame_length,hop_length, 1, final_feature_vector)\n",
        "    features1.append(final_feature_vector)"
      ],
      "metadata": {
        "id": "wyOHqglfHsYF"
      },
      "execution_count": null,
      "outputs": []
    },
    {
      "cell_type": "code",
      "source": [
        "# Other\n",
        "audioFilePath = \"/content/drive/MyDrive/Research/NatureSounds\"\n",
        "files0 = librosa.util.find_files(audioFilePath, ext=['wav']) \n",
        "files0 = np.asarray(files0)\n",
        "signal_array = []\n",
        "for z in files0:\n",
        "    data, sr = librosa.load(z,sr=1000)\n",
        "    fourier = fourier_transform(data, sr)\n",
        "    arr = np.array(fourier).astype(np.float32)\n",
        "    final_feature_vector = []\n",
        "    extract_features(arr, 1000, frame_length,hop_length, 0, final_feature_vector)\n",
        "    features0.append(final_feature_vector)"
      ],
      "metadata": {
        "id": "DlI4wZx3Keh0"
      },
      "execution_count": null,
      "outputs": []
    },
    {
      "cell_type": "code",
      "source": [
        "features_combined = np.concatenate((features1, features0))\n",
        "\n",
        "from itertools import chain\n",
        "\n",
        "df = pd.DataFrame(list(chain.from_iterable(features_combined)))\n",
        "df.to_csv('/content/drive/MyDrive/Research/features.csv', index=False) \n",
        "df"
      ],
      "metadata": {
        "id": "6msFSxptqDxr"
      },
      "execution_count": null,
      "outputs": []
    }
  ]
}