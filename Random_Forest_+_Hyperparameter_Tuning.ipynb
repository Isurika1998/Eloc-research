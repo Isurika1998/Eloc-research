{
  "nbformat": 4,
  "nbformat_minor": 0,
  "metadata": {
    "colab": {
      "provenance": [],
      "collapsed_sections": []
    },
    "kernelspec": {
      "name": "python3",
      "display_name": "Python 3"
    },
    "language_info": {
      "name": "python"
    }
  },
  "cells": [
    {
      "cell_type": "code",
      "execution_count": 59,
      "metadata": {
        "id": "nWgAcgpDWCDt"
      },
      "outputs": [],
      "source": [
        "import pandas as pd\n",
        "import numpy as np\n",
        "import seaborn as sns\n",
        "import tensorflow as tf\n",
        "\n",
        "import matplotlib.pyplot as plt"
      ]
    },
    {
      "cell_type": "code",
      "source": [
        "df = pd.read_csv('/content/drive/MyDrive/Research/Features CSV/features_replayed.csv')\n",
        "df.head(5)"
      ],
      "metadata": {
        "colab": {
          "base_uri": "https://localhost:8080/",
          "height": 317
        },
        "id": "7HN1NqG2Wy8Z",
        "outputId": "3799f30d-987f-4a29-dd67-b1a11b2b23d2"
      },
      "execution_count": 60,
      "outputs": [
        {
          "output_type": "execute_result",
          "data": {
            "text/plain": [
              "   feature_class  zero_crossing_rate - 0 - row  chroma_stft - 0 - row  \\\n",
              "0              1                      0.073333               0.726748   \n",
              "1              1                      0.165000               0.212508   \n",
              "2              1                      0.148333               0.221604   \n",
              "3              1                      0.160000               0.146665   \n",
              "4              1                      0.193333               0.098455   \n",
              "\n",
              "   chroma_stft - 1 - row  chroma_stft - 2 - row  chroma_stft - 3 - row  \\\n",
              "0               0.759688               0.829605               0.903506   \n",
              "1               0.158332               0.081509               0.276560   \n",
              "2               0.485101               0.167458               0.164614   \n",
              "3               0.372613               0.196976               0.087564   \n",
              "4               0.146665               0.151385               0.130592   \n",
              "\n",
              "   chroma_stft - 4 - row  chroma_stft - 5 - row  chroma_stft - 6 - row  \\\n",
              "0               0.916470               0.856820               0.765329   \n",
              "1               0.147061               0.138793               0.518180   \n",
              "2               0.114240               0.222047               0.575339   \n",
              "3               0.059823               0.195238               0.455048   \n",
              "4               0.092747               0.141075               0.431040   \n",
              "\n",
              "   chroma_stft - 7 - row  ...  spectral_bandwidth - 0 - cd1  \\\n",
              "0                    1.0  ...                     48.754196   \n",
              "1                    1.0  ...                     56.467501   \n",
              "2                    1.0  ...                     53.943855   \n",
              "3                    1.0  ...                     55.142265   \n",
              "4                    1.0  ...                     57.398110   \n",
              "\n",
              "   spectral_contrast - 0 - cd1  spectral_contrast - 1 - cd1  \\\n",
              "0                     0.005552                     0.021756   \n",
              "1                    19.312195                     7.529678   \n",
              "2                    27.599710                     9.017792   \n",
              "3                    26.061439                    10.779738   \n",
              "4                    18.782844                    14.695778   \n",
              "\n",
              "   spectral_contrast - 2 - cd1  spectral_contrast - 3 - cd1  \\\n",
              "0                     0.089071                     0.327534   \n",
              "1                    14.475446                    15.573279   \n",
              "2                    12.211384                    12.255502   \n",
              "3                    13.136673                    14.597047   \n",
              "4                    22.033995                    10.413327   \n",
              "\n",
              "   spectral_contrast - 4 - cd1  spectral_contrast - 5 - cd1  \\\n",
              "0                     3.404054                    22.397763   \n",
              "1                    14.426158                    14.753686   \n",
              "2                    12.257732                    11.903672   \n",
              "3                    14.974011                    14.356653   \n",
              "4                    11.893577                    14.741213   \n",
              "\n",
              "   spectral_rolloff - 0 - cd1  poly_features - 0 - cd1  \\\n",
              "0                       194.0                 0.035404   \n",
              "1                       256.0                 0.069783   \n",
              "2                       250.0                 0.105755   \n",
              "3                       252.0                 0.054339   \n",
              "4                       265.0                 0.062495   \n",
              "\n",
              "   poly_features - 1 - cd1  \n",
              "0               160.070370  \n",
              "1                 1.664959  \n",
              "2                 6.395643  \n",
              "3                 2.011222  \n",
              "4                 0.859258  \n",
              "\n",
              "[5 rows x 673 columns]"
            ],
            "text/html": [
              "\n",
              "  <div id=\"df-a20b0037-d4b7-4ffd-911c-f29be2a43711\">\n",
              "    <div class=\"colab-df-container\">\n",
              "      <div>\n",
              "<style scoped>\n",
              "    .dataframe tbody tr th:only-of-type {\n",
              "        vertical-align: middle;\n",
              "    }\n",
              "\n",
              "    .dataframe tbody tr th {\n",
              "        vertical-align: top;\n",
              "    }\n",
              "\n",
              "    .dataframe thead th {\n",
              "        text-align: right;\n",
              "    }\n",
              "</style>\n",
              "<table border=\"1\" class=\"dataframe\">\n",
              "  <thead>\n",
              "    <tr style=\"text-align: right;\">\n",
              "      <th></th>\n",
              "      <th>feature_class</th>\n",
              "      <th>zero_crossing_rate - 0 - row</th>\n",
              "      <th>chroma_stft - 0 - row</th>\n",
              "      <th>chroma_stft - 1 - row</th>\n",
              "      <th>chroma_stft - 2 - row</th>\n",
              "      <th>chroma_stft - 3 - row</th>\n",
              "      <th>chroma_stft - 4 - row</th>\n",
              "      <th>chroma_stft - 5 - row</th>\n",
              "      <th>chroma_stft - 6 - row</th>\n",
              "      <th>chroma_stft - 7 - row</th>\n",
              "      <th>...</th>\n",
              "      <th>spectral_bandwidth - 0 - cd1</th>\n",
              "      <th>spectral_contrast - 0 - cd1</th>\n",
              "      <th>spectral_contrast - 1 - cd1</th>\n",
              "      <th>spectral_contrast - 2 - cd1</th>\n",
              "      <th>spectral_contrast - 3 - cd1</th>\n",
              "      <th>spectral_contrast - 4 - cd1</th>\n",
              "      <th>spectral_contrast - 5 - cd1</th>\n",
              "      <th>spectral_rolloff - 0 - cd1</th>\n",
              "      <th>poly_features - 0 - cd1</th>\n",
              "      <th>poly_features - 1 - cd1</th>\n",
              "    </tr>\n",
              "  </thead>\n",
              "  <tbody>\n",
              "    <tr>\n",
              "      <th>0</th>\n",
              "      <td>1</td>\n",
              "      <td>0.073333</td>\n",
              "      <td>0.726748</td>\n",
              "      <td>0.759688</td>\n",
              "      <td>0.829605</td>\n",
              "      <td>0.903506</td>\n",
              "      <td>0.916470</td>\n",
              "      <td>0.856820</td>\n",
              "      <td>0.765329</td>\n",
              "      <td>1.0</td>\n",
              "      <td>...</td>\n",
              "      <td>48.754196</td>\n",
              "      <td>0.005552</td>\n",
              "      <td>0.021756</td>\n",
              "      <td>0.089071</td>\n",
              "      <td>0.327534</td>\n",
              "      <td>3.404054</td>\n",
              "      <td>22.397763</td>\n",
              "      <td>194.0</td>\n",
              "      <td>0.035404</td>\n",
              "      <td>160.070370</td>\n",
              "    </tr>\n",
              "    <tr>\n",
              "      <th>1</th>\n",
              "      <td>1</td>\n",
              "      <td>0.165000</td>\n",
              "      <td>0.212508</td>\n",
              "      <td>0.158332</td>\n",
              "      <td>0.081509</td>\n",
              "      <td>0.276560</td>\n",
              "      <td>0.147061</td>\n",
              "      <td>0.138793</td>\n",
              "      <td>0.518180</td>\n",
              "      <td>1.0</td>\n",
              "      <td>...</td>\n",
              "      <td>56.467501</td>\n",
              "      <td>19.312195</td>\n",
              "      <td>7.529678</td>\n",
              "      <td>14.475446</td>\n",
              "      <td>15.573279</td>\n",
              "      <td>14.426158</td>\n",
              "      <td>14.753686</td>\n",
              "      <td>256.0</td>\n",
              "      <td>0.069783</td>\n",
              "      <td>1.664959</td>\n",
              "    </tr>\n",
              "    <tr>\n",
              "      <th>2</th>\n",
              "      <td>1</td>\n",
              "      <td>0.148333</td>\n",
              "      <td>0.221604</td>\n",
              "      <td>0.485101</td>\n",
              "      <td>0.167458</td>\n",
              "      <td>0.164614</td>\n",
              "      <td>0.114240</td>\n",
              "      <td>0.222047</td>\n",
              "      <td>0.575339</td>\n",
              "      <td>1.0</td>\n",
              "      <td>...</td>\n",
              "      <td>53.943855</td>\n",
              "      <td>27.599710</td>\n",
              "      <td>9.017792</td>\n",
              "      <td>12.211384</td>\n",
              "      <td>12.255502</td>\n",
              "      <td>12.257732</td>\n",
              "      <td>11.903672</td>\n",
              "      <td>250.0</td>\n",
              "      <td>0.105755</td>\n",
              "      <td>6.395643</td>\n",
              "    </tr>\n",
              "    <tr>\n",
              "      <th>3</th>\n",
              "      <td>1</td>\n",
              "      <td>0.160000</td>\n",
              "      <td>0.146665</td>\n",
              "      <td>0.372613</td>\n",
              "      <td>0.196976</td>\n",
              "      <td>0.087564</td>\n",
              "      <td>0.059823</td>\n",
              "      <td>0.195238</td>\n",
              "      <td>0.455048</td>\n",
              "      <td>1.0</td>\n",
              "      <td>...</td>\n",
              "      <td>55.142265</td>\n",
              "      <td>26.061439</td>\n",
              "      <td>10.779738</td>\n",
              "      <td>13.136673</td>\n",
              "      <td>14.597047</td>\n",
              "      <td>14.974011</td>\n",
              "      <td>14.356653</td>\n",
              "      <td>252.0</td>\n",
              "      <td>0.054339</td>\n",
              "      <td>2.011222</td>\n",
              "    </tr>\n",
              "    <tr>\n",
              "      <th>4</th>\n",
              "      <td>1</td>\n",
              "      <td>0.193333</td>\n",
              "      <td>0.098455</td>\n",
              "      <td>0.146665</td>\n",
              "      <td>0.151385</td>\n",
              "      <td>0.130592</td>\n",
              "      <td>0.092747</td>\n",
              "      <td>0.141075</td>\n",
              "      <td>0.431040</td>\n",
              "      <td>1.0</td>\n",
              "      <td>...</td>\n",
              "      <td>57.398110</td>\n",
              "      <td>18.782844</td>\n",
              "      <td>14.695778</td>\n",
              "      <td>22.033995</td>\n",
              "      <td>10.413327</td>\n",
              "      <td>11.893577</td>\n",
              "      <td>14.741213</td>\n",
              "      <td>265.0</td>\n",
              "      <td>0.062495</td>\n",
              "      <td>0.859258</td>\n",
              "    </tr>\n",
              "  </tbody>\n",
              "</table>\n",
              "<p>5 rows × 673 columns</p>\n",
              "</div>\n",
              "      <button class=\"colab-df-convert\" onclick=\"convertToInteractive('df-a20b0037-d4b7-4ffd-911c-f29be2a43711')\"\n",
              "              title=\"Convert this dataframe to an interactive table.\"\n",
              "              style=\"display:none;\">\n",
              "        \n",
              "  <svg xmlns=\"http://www.w3.org/2000/svg\" height=\"24px\"viewBox=\"0 0 24 24\"\n",
              "       width=\"24px\">\n",
              "    <path d=\"M0 0h24v24H0V0z\" fill=\"none\"/>\n",
              "    <path d=\"M18.56 5.44l.94 2.06.94-2.06 2.06-.94-2.06-.94-.94-2.06-.94 2.06-2.06.94zm-11 1L8.5 8.5l.94-2.06 2.06-.94-2.06-.94L8.5 2.5l-.94 2.06-2.06.94zm10 10l.94 2.06.94-2.06 2.06-.94-2.06-.94-.94-2.06-.94 2.06-2.06.94z\"/><path d=\"M17.41 7.96l-1.37-1.37c-.4-.4-.92-.59-1.43-.59-.52 0-1.04.2-1.43.59L10.3 9.45l-7.72 7.72c-.78.78-.78 2.05 0 2.83L4 21.41c.39.39.9.59 1.41.59.51 0 1.02-.2 1.41-.59l7.78-7.78 2.81-2.81c.8-.78.8-2.07 0-2.86zM5.41 20L4 18.59l7.72-7.72 1.47 1.35L5.41 20z\"/>\n",
              "  </svg>\n",
              "      </button>\n",
              "      \n",
              "  <style>\n",
              "    .colab-df-container {\n",
              "      display:flex;\n",
              "      flex-wrap:wrap;\n",
              "      gap: 12px;\n",
              "    }\n",
              "\n",
              "    .colab-df-convert {\n",
              "      background-color: #E8F0FE;\n",
              "      border: none;\n",
              "      border-radius: 50%;\n",
              "      cursor: pointer;\n",
              "      display: none;\n",
              "      fill: #1967D2;\n",
              "      height: 32px;\n",
              "      padding: 0 0 0 0;\n",
              "      width: 32px;\n",
              "    }\n",
              "\n",
              "    .colab-df-convert:hover {\n",
              "      background-color: #E2EBFA;\n",
              "      box-shadow: 0px 1px 2px rgba(60, 64, 67, 0.3), 0px 1px 3px 1px rgba(60, 64, 67, 0.15);\n",
              "      fill: #174EA6;\n",
              "    }\n",
              "\n",
              "    [theme=dark] .colab-df-convert {\n",
              "      background-color: #3B4455;\n",
              "      fill: #D2E3FC;\n",
              "    }\n",
              "\n",
              "    [theme=dark] .colab-df-convert:hover {\n",
              "      background-color: #434B5C;\n",
              "      box-shadow: 0px 1px 3px 1px rgba(0, 0, 0, 0.15);\n",
              "      filter: drop-shadow(0px 1px 2px rgba(0, 0, 0, 0.3));\n",
              "      fill: #FFFFFF;\n",
              "    }\n",
              "  </style>\n",
              "\n",
              "      <script>\n",
              "        const buttonEl =\n",
              "          document.querySelector('#df-a20b0037-d4b7-4ffd-911c-f29be2a43711 button.colab-df-convert');\n",
              "        buttonEl.style.display =\n",
              "          google.colab.kernel.accessAllowed ? 'block' : 'none';\n",
              "\n",
              "        async function convertToInteractive(key) {\n",
              "          const element = document.querySelector('#df-a20b0037-d4b7-4ffd-911c-f29be2a43711');\n",
              "          const dataTable =\n",
              "            await google.colab.kernel.invokeFunction('convertToInteractive',\n",
              "                                                     [key], {});\n",
              "          if (!dataTable) return;\n",
              "\n",
              "          const docLinkHtml = 'Like what you see? Visit the ' +\n",
              "            '<a target=\"_blank\" href=https://colab.research.google.com/notebooks/data_table.ipynb>data table notebook</a>'\n",
              "            + ' to learn more about interactive tables.';\n",
              "          element.innerHTML = '';\n",
              "          dataTable['output_type'] = 'display_data';\n",
              "          await google.colab.output.renderOutput(dataTable, element);\n",
              "          const docLink = document.createElement('div');\n",
              "          docLink.innerHTML = docLinkHtml;\n",
              "          element.appendChild(docLink);\n",
              "        }\n",
              "      </script>\n",
              "    </div>\n",
              "  </div>\n",
              "  "
            ]
          },
          "metadata": {},
          "execution_count": 60
        }
      ]
    },
    {
      "cell_type": "markdown",
      "source": [
        "**Check Missing Values**"
      ],
      "metadata": {
        "id": "fHJLzrr58CkE"
      }
    },
    {
      "cell_type": "code",
      "source": [
        "# checking for missing values\n",
        "df.isna().sum()"
      ],
      "metadata": {
        "colab": {
          "base_uri": "https://localhost:8080/"
        },
        "id": "m_xRAnzQ7IW8",
        "outputId": "43481582-8b98-41ce-e502-f2aca6d6b381"
      },
      "execution_count": 61,
      "outputs": [
        {
          "output_type": "execute_result",
          "data": {
            "text/plain": [
              "feature_class                   0\n",
              "zero_crossing_rate - 0 - row    0\n",
              "chroma_stft - 0 - row           0\n",
              "chroma_stft - 1 - row           0\n",
              "chroma_stft - 2 - row           0\n",
              "                               ..\n",
              "spectral_contrast - 4 - cd1     0\n",
              "spectral_contrast - 5 - cd1     0\n",
              "spectral_rolloff - 0 - cd1      0\n",
              "poly_features - 0 - cd1         0\n",
              "poly_features - 1 - cd1         0\n",
              "Length: 673, dtype: int64"
            ]
          },
          "metadata": {},
          "execution_count": 61
        }
      ]
    },
    {
      "cell_type": "code",
      "source": [
        "X = df.drop(['feature_class'], axis=1)\n",
        "y = df['feature_class']"
      ],
      "metadata": {
        "id": "PhNQaXGCXZgT"
      },
      "execution_count": 62,
      "outputs": []
    },
    {
      "cell_type": "code",
      "source": [
        "# now lets split the data into train and test\n",
        "from sklearn.model_selection import train_test_split"
      ],
      "metadata": {
        "id": "KQsJmirCXkpx"
      },
      "execution_count": 63,
      "outputs": []
    },
    {
      "cell_type": "code",
      "source": [
        "# Splitting the data into train and test\n",
        "X_train, X_test, y_train, y_test = train_test_split(X, y, test_size=0.20, random_state=42)"
      ],
      "metadata": {
        "id": "oREuvMG0XnhU"
      },
      "execution_count": 64,
      "outputs": []
    },
    {
      "cell_type": "code",
      "source": [
        "from sklearn.ensemble import RandomForestClassifier\n",
        "from sklearn import metrics"
      ],
      "metadata": {
        "id": "-mHOYnEPYIZb"
      },
      "execution_count": 65,
      "outputs": []
    },
    {
      "cell_type": "code",
      "source": [
        "classifier_rf = RandomForestClassifier(random_state=42, n_jobs=-1, max_depth=5,\n",
        "                                       n_estimators=100, oob_score=True)"
      ],
      "metadata": {
        "id": "AF4ukkmsY1c8"
      },
      "execution_count": 66,
      "outputs": []
    },
    {
      "cell_type": "code",
      "source": [
        "%%time\n",
        "classifier_rf.fit(X_train, y_train)"
      ],
      "metadata": {
        "colab": {
          "base_uri": "https://localhost:8080/"
        },
        "id": "-NEgESpFY7UY",
        "outputId": "e58f4f70-eee6-40ab-ca98-416130dfa998"
      },
      "execution_count": 67,
      "outputs": [
        {
          "output_type": "stream",
          "name": "stdout",
          "text": [
            "CPU times: user 2.62 s, sys: 12.8 ms, total: 2.64 s\n",
            "Wall time: 1.54 s\n"
          ]
        },
        {
          "output_type": "execute_result",
          "data": {
            "text/plain": [
              "RandomForestClassifier(max_depth=5, n_jobs=-1, oob_score=True, random_state=42)"
            ]
          },
          "metadata": {},
          "execution_count": 67
        }
      ]
    },
    {
      "cell_type": "code",
      "source": [
        "# checking the oob score\n",
        "classifier_rf.oob_score_"
      ],
      "metadata": {
        "colab": {
          "base_uri": "https://localhost:8080/"
        },
        "id": "FE8_dySQZF-j",
        "outputId": "c78a7a72-4b88-4ba4-e0b8-c2baeef3af4f"
      },
      "execution_count": 68,
      "outputs": [
        {
          "output_type": "execute_result",
          "data": {
            "text/plain": [
              "0.9468085106382979"
            ]
          },
          "metadata": {},
          "execution_count": 68
        }
      ]
    },
    {
      "cell_type": "code",
      "source": [
        "y_pred = classifier_rf.predict(X_test)\n",
        "metrics.accuracy_score(y_test,y_pred)"
      ],
      "metadata": {
        "colab": {
          "base_uri": "https://localhost:8080/"
        },
        "id": "GOJ4_bpkZUma",
        "outputId": "5cc1211a-f910-4e28-de15-ef2590cf9966"
      },
      "execution_count": 69,
      "outputs": [
        {
          "output_type": "execute_result",
          "data": {
            "text/plain": [
              "0.9553191489361702"
            ]
          },
          "metadata": {},
          "execution_count": 69
        }
      ]
    },
    {
      "cell_type": "code",
      "source": [
        "# classifing the features according to their importance\n",
        "feature_imp = pd.Series(classifier_rf.feature_importances_,index=[i for i in range(672)]).sort_values(ascending=False)\n",
        "\n",
        "# printing\n",
        "print(feature_imp)"
      ],
      "metadata": {
        "colab": {
          "base_uri": "https://localhost:8080/"
        },
        "id": "vBEDyvgUFYJq",
        "outputId": "232a5432-b4ec-4dfd-8477-4b3269e3f385"
      },
      "execution_count": 70,
      "outputs": [
        {
          "output_type": "stream",
          "name": "stdout",
          "text": [
            "370    0.029326\n",
            "452    0.023295\n",
            "240    0.023072\n",
            "658    0.020148\n",
            "284    0.019464\n",
            "         ...   \n",
            "581    0.000000\n",
            "263    0.000000\n",
            "264    0.000000\n",
            "77     0.000000\n",
            "555    0.000000\n",
            "Length: 672, dtype: float64\n"
          ]
        }
      ]
    },
    {
      "cell_type": "code",
      "source": [
        "# graph size\n",
        "plt.figure(figsize=(30,10))\n",
        "\n",
        "# Creating a bar plot\n",
        "sns.barplot(x=feature_imp, y=feature_imp.index)\n",
        "\n",
        "# Add labels to your graph\n",
        "plt.xlabel('Feature Importance Score')\n",
        "plt.ylabel('Features')\n",
        "plt.title(\"Visualizing Important Features\")\n",
        "plt.show()"
      ],
      "metadata": {
        "colab": {
          "base_uri": "https://localhost:8080/",
          "height": 517
        },
        "id": "S5MsCkIiF4b0",
        "outputId": "c5fb280c-b90a-4eb3-ad83-3670bba12b05"
      },
      "execution_count": 71,
      "outputs": [
        {
          "output_type": "display_data",
          "data": {
            "text/plain": [
              "<Figure size 2160x720 with 1 Axes>"
            ],
            "image/png": "[encoded data removed]"
          },
          "metadata": {
            "needs_background": "light"
          }
        }
      ]
    },
    {
      "cell_type": "markdown",
      "source": [
        "\n",
        "\n",
        "---\n",
        "\n",
        "**Model evaluation using confusion matrix**"
      ],
      "metadata": {
        "id": "Ri8KZweXGeXq"
      }
    },
    {
      "cell_type": "code",
      "source": [
        "# importing the required modules\n",
        "from sklearn.metrics import confusion_matrix, ConfusionMatrixDisplay\n",
        "\n",
        "# Plot the confusion matrix in graph\n",
        "cm = confusion_matrix(y_test,y_pred, labels=classifier_rf.classes_)\n",
        "\n",
        "# ploting with labels\n",
        "disp = ConfusionMatrixDisplay(confusion_matrix=cm, display_labels=classifier_rf.classes_)\n",
        "disp.plot()\n",
        "\n",
        "# showing the matrix\n",
        "plt.show()"
      ],
      "metadata": {
        "colab": {
          "base_uri": "https://localhost:8080/",
          "height": 279
        },
        "id": "jX00xzEuGq1k",
        "outputId": "7c9977dc-882f-4578-d21e-14ea40efe247"
      },
      "execution_count": 72,
      "outputs": [
        {
          "output_type": "display_data",
          "data": {
            "text/plain": [
              "<Figure size 432x288 with 2 Axes>"
            ],
            "image/png": "[encoded data removed]"
          },
          "metadata": {
            "needs_background": "light"
          }
        }
      ]
    },
    {
      "cell_type": "markdown",
      "source": [
        "**Classification report**"
      ],
      "metadata": {
        "id": "9dOSn96YHRDz"
      }
    },
    {
      "cell_type": "code",
      "source": [
        "# Importing classification report\n",
        "from sklearn.metrics import classification_report\n",
        "\n",
        "# printing the report\n",
        "print(classification_report(y_test, y_pred))"
      ],
      "metadata": {
        "colab": {
          "base_uri": "https://localhost:8080/"
        },
        "id": "k9ErFG5THX5e",
        "outputId": "93ccf101-7775-486e-fbee-b6e60aa6f1ad"
      },
      "execution_count": 73,
      "outputs": [
        {
          "output_type": "stream",
          "name": "stdout",
          "text": [
            "              precision    recall  f1-score   support\n",
            "\n",
            "           0       0.95      0.95      0.95       203\n",
            "           1       0.96      0.96      0.96       267\n",
            "\n",
            "    accuracy                           0.96       470\n",
            "   macro avg       0.95      0.95      0.95       470\n",
            "weighted avg       0.96      0.96      0.96       470\n",
            "\n"
          ]
        }
      ]
    },
    {
      "cell_type": "markdown",
      "source": [
        "\n",
        "\n",
        "---\n",
        "\n",
        "**Hyperparameter tuning for Random Forest using GridSearchCV**"
      ],
      "metadata": {
        "id": "32ZG69plTmiL"
      }
    },
    {
      "cell_type": "code",
      "source": [
        "rf = RandomForestClassifier(random_state=42, n_jobs=-1)"
      ],
      "metadata": {
        "id": "IJuZhGNEI3DC"
      },
      "execution_count": 74,
      "outputs": []
    },
    {
      "cell_type": "code",
      "source": [
        "params = {\n",
        "    'max_depth': [2,3,5,10,20],\n",
        "    'min_samples_leaf': [5,10,20,50,100,200],\n",
        "    'n_estimators': [10,25,30,50,100,200]\n",
        "}"
      ],
      "metadata": {
        "id": "_vtk4QZiJBt9"
      },
      "execution_count": 75,
      "outputs": []
    },
    {
      "cell_type": "code",
      "source": [
        "from sklearn.model_selection import GridSearchCV"
      ],
      "metadata": {
        "id": "g_w4qfX0JMvg"
      },
      "execution_count": 76,
      "outputs": []
    },
    {
      "cell_type": "code",
      "source": [
        "# Instantiate the grid search model\n",
        "grid_search = GridSearchCV(estimator=rf,\n",
        "                           param_grid=params,\n",
        "                           cv = 4,\n",
        "                           n_jobs=-1, verbose=1, scoring=\"accuracy\")"
      ],
      "metadata": {
        "id": "QWA1esIEJQiI"
      },
      "execution_count": 77,
      "outputs": []
    },
    {
      "cell_type": "code",
      "source": [
        "%%time\n",
        "grid_search.fit(X_train, y_train)"
      ],
      "metadata": {
        "colab": {
          "base_uri": "https://localhost:8080/"
        },
        "id": "UWkbcx9UJU4i",
        "outputId": "811e24bc-2712-48ca-e98e-28c7b5f34e89"
      },
      "execution_count": 78,
      "outputs": [
        {
          "output_type": "stream",
          "name": "stdout",
          "text": [
            "Fitting 4 folds for each of 180 candidates, totalling 720 fits\n",
            "CPU times: user 10.1 s, sys: 509 ms, total: 10.6 s\n",
            "Wall time: 6min 45s\n"
          ]
        },
        {
          "output_type": "execute_result",
          "data": {
            "text/plain": [
              "GridSearchCV(cv=4, estimator=RandomForestClassifier(n_jobs=-1, random_state=42),\n",
              "             n_jobs=-1,\n",
              "             param_grid={'max_depth': [2, 3, 5, 10, 20],\n",
              "                         'min_samples_leaf': [5, 10, 20, 50, 100, 200],\n",
              "                         'n_estimators': [10, 25, 30, 50, 100, 200]},\n",
              "             scoring='accuracy', verbose=1)"
            ]
          },
          "metadata": {},
          "execution_count": 78
        }
      ]
    },
    {
      "cell_type": "code",
      "source": [
        "grid_search.best_score_"
      ],
      "metadata": {
        "colab": {
          "base_uri": "https://localhost:8080/"
        },
        "id": "Sk7wKDFINLZZ",
        "outputId": "fcbbaad5-a9e3-4f08-d55f-8de4fd66a51f"
      },
      "execution_count": 79,
      "outputs": [
        {
          "output_type": "execute_result",
          "data": {
            "text/plain": [
              "0.9680851063829787"
            ]
          },
          "metadata": {},
          "execution_count": 79
        }
      ]
    },
    {
      "cell_type": "code",
      "source": [
        "rf_best = grid_search.best_estimator_\n",
        "rf_best"
      ],
      "metadata": {
        "colab": {
          "base_uri": "https://localhost:8080/"
        },
        "id": "YLdNSHoiNYF1",
        "outputId": "b258117b-cc0c-4468-f7cf-142d89e7a8f8"
      },
      "execution_count": 80,
      "outputs": [
        {
          "output_type": "execute_result",
          "data": {
            "text/plain": [
              "RandomForestClassifier(max_depth=10, min_samples_leaf=5, n_estimators=50,\n",
              "                       n_jobs=-1, random_state=42)"
            ]
          },
          "metadata": {},
          "execution_count": 80
        }
      ]
    },
    {
      "cell_type": "markdown",
      "source": [
        "**Train model with best set of parameters**"
      ],
      "metadata": {
        "id": "n_vFpZC3Vq5c"
      }
    },
    {
      "cell_type": "code",
      "source": [
        "classifier_rf = RandomForestClassifier(max_depth=10, min_samples_leaf=5, n_estimators=50,\n",
        "                       n_jobs=-1, random_state=42, oob_score=True)"
      ],
      "metadata": {
        "id": "8AAxI9NENv5u"
      },
      "execution_count": 81,
      "outputs": []
    },
    {
      "cell_type": "code",
      "source": [
        "%%time\n",
        "classifier_rf.fit(X_train, y_train)"
      ],
      "metadata": {
        "colab": {
          "base_uri": "https://localhost:8080/"
        },
        "id": "izA8TewZOEJ4",
        "outputId": "fd32b691-2668-4818-bf45-16f08b765c44"
      },
      "execution_count": 82,
      "outputs": [
        {
          "output_type": "stream",
          "name": "stdout",
          "text": [
            "CPU times: user 1.76 s, sys: 10.3 ms, total: 1.77 s\n",
            "Wall time: 1.04 s\n"
          ]
        },
        {
          "output_type": "execute_result",
          "data": {
            "text/plain": [
              "RandomForestClassifier(max_depth=10, min_samples_leaf=5, n_estimators=50,\n",
              "                       n_jobs=-1, oob_score=True, random_state=42)"
            ]
          },
          "metadata": {},
          "execution_count": 82
        }
      ]
    },
    {
      "cell_type": "code",
      "source": [
        "# checking the oob score\n",
        "classifier_rf.oob_score_"
      ],
      "metadata": {
        "colab": {
          "base_uri": "https://localhost:8080/"
        },
        "id": "dbDVJpdeOYUs",
        "outputId": "7aefc409-1370-484b-fdca-cdd96b5c232d"
      },
      "execution_count": 83,
      "outputs": [
        {
          "output_type": "execute_result",
          "data": {
            "text/plain": [
              "0.9643617021276596"
            ]
          },
          "metadata": {},
          "execution_count": 83
        }
      ]
    },
    {
      "cell_type": "code",
      "source": [
        "y_pred = classifier_rf.predict(X_test)\n",
        "metrics.accuracy_score(y_test,y_pred)"
      ],
      "metadata": {
        "colab": {
          "base_uri": "https://localhost:8080/"
        },
        "id": "brhhwvcAOd5y",
        "outputId": "dd105423-749a-4f14-c02a-ab39fc55cd85"
      },
      "execution_count": 84,
      "outputs": [
        {
          "output_type": "execute_result",
          "data": {
            "text/plain": [
              "0.9702127659574468"
            ]
          },
          "metadata": {},
          "execution_count": 84
        }
      ]
    },
    {
      "cell_type": "markdown",
      "source": [
        "\n",
        "\n",
        "---\n",
        "\n",
        "**Model evaluation using confusion matrix**"
      ],
      "metadata": {
        "id": "_hM7OEK9VU-O"
      }
    },
    {
      "cell_type": "code",
      "source": [
        "# importing the required modules\n",
        "from sklearn.metrics import confusion_matrix, ConfusionMatrixDisplay\n",
        "\n",
        "# Plot the confusion matrix in graph\n",
        "cm = confusion_matrix(y_test,y_pred, labels=classifier_rf.classes_)\n",
        "\n",
        "# ploting with labels\n",
        "disp = ConfusionMatrixDisplay(confusion_matrix=cm, display_labels=classifier_rf.classes_)\n",
        "disp.plot()\n",
        "\n",
        "# showing the matrix\n",
        "plt.show()"
      ],
      "metadata": {
        "colab": {
          "base_uri": "https://localhost:8080/",
          "height": 279
        },
        "outputId": "d92a5df8-8477-4ed3-9414-3a2564a38d7a",
        "id": "QWJAcg6VVdd7"
      },
      "execution_count": 85,
      "outputs": [
        {
          "output_type": "display_data",
          "data": {
            "text/plain": [
              "<Figure size 432x288 with 2 Axes>"
            ],
            "image/png": "[encoded data removed]"
          },
          "metadata": {
            "needs_background": "light"
          }
        }
      ]
    }
  ]
}